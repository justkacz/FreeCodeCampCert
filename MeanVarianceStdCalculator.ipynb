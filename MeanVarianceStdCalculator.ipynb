{
 "cells": [
  {
   "cell_type": "code",
   "execution_count": null,
   "id": "704c6a89",
   "metadata": {},
   "outputs": [],
   "source": [
    "import numpy as np\n",
    "\n",
    "def calculate(list):\n",
    "  try:\n",
    "    xnp=np.array(list).reshape(3,3)\n",
    "    \n",
    "    calculations = dict({'mean':[xnp.mean(axis=0).tolist(),xnp.mean(axis=1).tolist(),xnp.ravel().mean().tolist()],\n",
    "          'variance':[xnp.var(axis=0).tolist(), xnp.var(axis=1).tolist(), xnp.ravel().var().tolist()],\n",
    "          'max': [xnp.max(axis=0).tolist(),xnp.max(axis=1).tolist(),xnp.ravel().max().tolist()],\n",
    "          'min':[xnp.min(axis=0).tolist(),xnp.min(axis=1).tolist(),xnp.ravel().min().tolist()],\n",
    "          'sum':[xnp.sum(axis=0).tolist(),xnp.sum(axis=1).tolist(),xnp.ravel().sum().tolist()]\n",
    "          })\n",
    "    return calculations\n",
    "  except:  \n",
    "    print(\"List must contain nine numbers.\")\n",
    "    \n",
    "print(mean_var_std.calculate([0,1,2,3,4,5,6,7]))"
   ]
  }
 ],
 "metadata": {
  "kernelspec": {
   "display_name": "Python 3",
   "language": "python",
   "name": "python3"
  },
  "language_info": {
   "codemirror_mode": {
    "name": "ipython",
    "version": 3
   },
   "file_extension": ".py",
   "mimetype": "text/x-python",
   "name": "python",
   "nbconvert_exporter": "python",
   "pygments_lexer": "ipython3",
   "version": "3.8.8"
  }
 },
 "nbformat": 4,
 "nbformat_minor": 5
}
